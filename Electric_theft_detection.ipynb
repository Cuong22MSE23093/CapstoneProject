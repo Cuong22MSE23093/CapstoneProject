{
  "metadata": {
    "kernelspec": {
      "language": "python",
      "display_name": "Python 3",
      "name": "python3"
    },
    "language_info": {
      "pygments_lexer": "ipython3",
      "nbconvert_exporter": "python",
      "version": "3.6.4",
      "file_extension": ".py",
      "codemirror_mode": {
        "name": "ipython",
        "version": 3
      },
      "name": "python",
      "mimetype": "text/x-python"
    },
    "kaggle": {
      "accelerator": "gpu",
      "dataSources": [
        {
          "sourceId": 4854639,
          "sourceType": "datasetVersion",
          "datasetId": 2814103
        }
      ],
      "dockerImageVersionId": 30458,
      "isInternetEnabled": false,
      "language": "python",
      "sourceType": "notebook",
      "isGpuEnabled": true
    },
    "colab": {
      "name": "Electric theft detection",
      "provenance": [],
      "include_colab_link": true
    }
  },
  "nbformat_minor": 0,
  "nbformat": 4,
  "cells": [
    {
      "cell_type": "markdown",
      "metadata": {
        "id": "view-in-github",
        "colab_type": "text"
      },
      "source": [
        "<a href=\"https://colab.research.google.com/github/Cuong22MSE23093/CapstoneProject/blob/main/Electric_theft_detection.ipynb\" target=\"_parent\"><img src=\"https://colab.research.google.com/assets/colab-badge.svg\" alt=\"Open In Colab\"/></a>"
      ]
    },
    {
      "source": [
        "\n",
        "# IMPORTANT: RUN THIS CELL IN ORDER TO IMPORT YOUR KAGGLE DATA SOURCES\n",
        "# TO THE CORRECT LOCATION (/kaggle/input) IN YOUR NOTEBOOK,\n",
        "# THEN FEEL FREE TO DELETE THIS CELL.\n",
        "# NOTE: THIS NOTEBOOK ENVIRONMENT DIFFERS FROM KAGGLE'S PYTHON\n",
        "# ENVIRONMENT SO THERE MAY BE MISSING LIBRARIES USED BY YOUR\n",
        "# NOTEBOOK.\n",
        "\n",
        "import os\n",
        "import sys\n",
        "from tempfile import NamedTemporaryFile\n",
        "from urllib.request import urlopen\n",
        "from urllib.parse import unquote, urlparse\n",
        "from urllib.error import HTTPError\n",
        "from zipfile import ZipFile\n",
        "import tarfile\n",
        "import shutil\n",
        "\n",
        "CHUNK_SIZE = 40960\n",
        "DATA_SOURCE_MAPPING = 'electricity-theft-detection:https%3A%2F%2Fstorage.googleapis.com%2Fkaggle-data-sets%2F2814103%2F4854639%2Fbundle%2Farchive.zip%3FX-Goog-Algorithm%3DGOOG4-RSA-SHA256%26X-Goog-Credential%3Dgcp-kaggle-com%2540kaggle-161607.iam.gserviceaccount.com%252F20240720%252Fauto%252Fstorage%252Fgoog4_request%26X-Goog-Date%3D20240720T115907Z%26X-Goog-Expires%3D259200%26X-Goog-SignedHeaders%3Dhost%26X-Goog-Signature%3D7c1b518f0e75c724d5d470541c306cf7fde8c3f1024bd2e850c47cfba4e3190b9af7218a10ade1557cff410c30216021a90d751613c3627086c60e417236074f5a5fe3b6c339b9ce296ee0989af0df6c2733bd8060bc01396bfef672b5f7cc2d9dc85c9a45fa1f7db8d72bca82dcd5d441450c39ececb447d28e2674f878ce5919a1d0a805262e3697c45fb84aa560549dca3b56c8aea462ac83951a1db377a97186bc9d1c6164ecbe8a18bbb94aea265ebd80359829fbc861d7260d922f16f723cd523b49b60c5eedf3001f9e03061205446b4482db24875d3827e92f65e3124ac48f8ff828a84b65c74ca2ef20ac4db2f34f40cf1aedc789b6736fe0efdbb7'\n",
        "\n",
        "KAGGLE_INPUT_PATH='/kaggle/input'\n",
        "KAGGLE_WORKING_PATH='/kaggle/working'\n",
        "KAGGLE_SYMLINK='kaggle'\n",
        "\n",
        "!umount /kaggle/input/ 2> /dev/null\n",
        "shutil.rmtree('/kaggle/input', ignore_errors=True)\n",
        "os.makedirs(KAGGLE_INPUT_PATH, 0o777, exist_ok=True)\n",
        "os.makedirs(KAGGLE_WORKING_PATH, 0o777, exist_ok=True)\n",
        "\n",
        "try:\n",
        "  os.symlink(KAGGLE_INPUT_PATH, os.path.join(\"..\", 'input'), target_is_directory=True)\n",
        "except FileExistsError:\n",
        "  pass\n",
        "try:\n",
        "  os.symlink(KAGGLE_WORKING_PATH, os.path.join(\"..\", 'working'), target_is_directory=True)\n",
        "except FileExistsError:\n",
        "  pass\n",
        "\n",
        "for data_source_mapping in DATA_SOURCE_MAPPING.split(','):\n",
        "    directory, download_url_encoded = data_source_mapping.split(':')\n",
        "    download_url = unquote(download_url_encoded)\n",
        "    filename = urlparse(download_url).path\n",
        "    destination_path = os.path.join(KAGGLE_INPUT_PATH, directory)\n",
        "    try:\n",
        "        with urlopen(download_url) as fileres, NamedTemporaryFile() as tfile:\n",
        "            total_length = fileres.headers['content-length']\n",
        "            print(f'Downloading {directory}, {total_length} bytes compressed')\n",
        "            dl = 0\n",
        "            data = fileres.read(CHUNK_SIZE)\n",
        "            while len(data) > 0:\n",
        "                dl += len(data)\n",
        "                tfile.write(data)\n",
        "                done = int(50 * dl / int(total_length))\n",
        "                sys.stdout.write(f\"\\r[{'=' * done}{' ' * (50-done)}] {dl} bytes downloaded\")\n",
        "                sys.stdout.flush()\n",
        "                data = fileres.read(CHUNK_SIZE)\n",
        "            if filename.endswith('.zip'):\n",
        "              with ZipFile(tfile) as zfile:\n",
        "                zfile.extractall(destination_path)\n",
        "            else:\n",
        "              with tarfile.open(tfile.name) as tarfile:\n",
        "                tarfile.extractall(destination_path)\n",
        "            print(f'\\nDownloaded and uncompressed: {directory}')\n",
        "    except HTTPError as e:\n",
        "        print(f'Failed to load (likely expired) {download_url} to path {destination_path}')\n",
        "        continue\n",
        "    except OSError as e:\n",
        "        print(f'Failed to load {download_url} to path {destination_path}')\n",
        "        continue\n",
        "\n",
        "print('Data source import complete.')\n"
      ],
      "metadata": {
        "id": "7RkSDYRyAp3W"
      },
      "cell_type": "code",
      "outputs": [],
      "execution_count": null
    },
    {
      "cell_type": "code",
      "source": [
        "import pandas as pd\n",
        "import numpy as np\n",
        "import matplotlib.pyplot as plt\n",
        "import seaborn as sns\n",
        "\n",
        "from statsmodels.tsa.seasonal import seasonal_decompose\n",
        "from statsmodels.graphics.tsaplots import plot_acf, plot_pacf\n",
        "from statsmodels.tsa.arima.model import ARIMA\n",
        "\n",
        "from pykalman import KalmanFilter\n",
        "from scipy.fft import fft, ifft\n",
        "from datetime import datetime"
      ],
      "metadata": {
        "_uuid": "8f2839f25d086af736a60e9eeb907d3b93b6e0e5",
        "_cell_guid": "b1076dfc-b9ad-4769-8c92-a6c4dae69d19",
        "execution": {
          "iopub.status.busy": "2023-04-28T09:00:05.434286Z",
          "iopub.execute_input": "2023-04-28T09:00:05.434794Z",
          "iopub.status.idle": "2023-04-28T09:00:05.443246Z",
          "shell.execute_reply.started": "2023-04-28T09:00:05.434748Z",
          "shell.execute_reply": "2023-04-28T09:00:05.441737Z"
        },
        "trusted": true,
        "id": "k3iBTlqCAp3Z"
      },
      "execution_count": null,
      "outputs": []
    },
    {
      "cell_type": "code",
      "source": [
        "theft_data_1 = pd.read_csv('/kaggle/input/electricity-theft-detection/data.csv')"
      ],
      "metadata": {
        "execution": {
          "iopub.status.busy": "2023-04-28T08:59:05.998071Z",
          "iopub.execute_input": "2023-04-28T08:59:05.99882Z",
          "iopub.status.idle": "2023-04-28T08:59:15.386519Z",
          "shell.execute_reply.started": "2023-04-28T08:59:05.998776Z",
          "shell.execute_reply": "2023-04-28T08:59:15.38537Z"
        },
        "trusted": true,
        "id": "4ZmceDwSAp3a"
      },
      "execution_count": null,
      "outputs": []
    },
    {
      "cell_type": "code",
      "source": [
        "theft_data_1.shape"
      ],
      "metadata": {
        "execution": {
          "iopub.status.busy": "2023-04-28T08:59:15.38827Z",
          "iopub.execute_input": "2023-04-28T08:59:15.388646Z",
          "iopub.status.idle": "2023-04-28T08:59:15.397256Z",
          "shell.execute_reply.started": "2023-04-28T08:59:15.388607Z",
          "shell.execute_reply": "2023-04-28T08:59:15.396015Z"
        },
        "trusted": true,
        "id": "O1IZqZ7FAp3a"
      },
      "execution_count": null,
      "outputs": []
    },
    {
      "cell_type": "code",
      "source": [
        "theft_data_1.head()"
      ],
      "metadata": {
        "execution": {
          "iopub.status.busy": "2023-04-28T08:59:15.40077Z",
          "iopub.execute_input": "2023-04-28T08:59:15.401585Z",
          "iopub.status.idle": "2023-04-28T08:59:15.441459Z",
          "shell.execute_reply.started": "2023-04-28T08:59:15.401542Z",
          "shell.execute_reply": "2023-04-28T08:59:15.440218Z"
        },
        "trusted": true,
        "id": "4NcOeALFAp3b"
      },
      "execution_count": null,
      "outputs": []
    },
    {
      "cell_type": "code",
      "source": [
        "theft_data_1.columns"
      ],
      "metadata": {
        "execution": {
          "iopub.status.busy": "2023-04-28T08:59:15.443292Z",
          "iopub.execute_input": "2023-04-28T08:59:15.444102Z",
          "iopub.status.idle": "2023-04-28T08:59:15.452896Z",
          "shell.execute_reply.started": "2023-04-28T08:59:15.444055Z",
          "shell.execute_reply": "2023-04-28T08:59:15.451547Z"
        },
        "trusted": true,
        "id": "rXm4xphlAp3b"
      },
      "execution_count": null,
      "outputs": []
    },
    {
      "cell_type": "code",
      "source": [
        "theft_data = theft_data_1.set_index('CONS_NO').copy()"
      ],
      "metadata": {
        "execution": {
          "iopub.status.busy": "2023-04-28T08:59:15.455149Z",
          "iopub.execute_input": "2023-04-28T08:59:15.455614Z",
          "iopub.status.idle": "2023-04-28T08:59:15.72194Z",
          "shell.execute_reply.started": "2023-04-28T08:59:15.455574Z",
          "shell.execute_reply": "2023-04-28T08:59:15.72062Z"
        },
        "trusted": true,
        "id": "6Iu6-2KBAp3b"
      },
      "execution_count": null,
      "outputs": []
    },
    {
      "cell_type": "code",
      "source": [
        "date_feature = theft_data.columns.drop(['FLAG']).copy()"
      ],
      "metadata": {
        "execution": {
          "iopub.status.busy": "2023-04-28T08:59:15.723248Z",
          "iopub.execute_input": "2023-04-28T08:59:15.723633Z",
          "iopub.status.idle": "2023-04-28T08:59:15.731439Z",
          "shell.execute_reply.started": "2023-04-28T08:59:15.723592Z",
          "shell.execute_reply": "2023-04-28T08:59:15.73014Z"
        },
        "trusted": true,
        "id": "IgEi9AS9Ap3b"
      },
      "execution_count": null,
      "outputs": []
    },
    {
      "cell_type": "code",
      "source": [
        "date_feature"
      ],
      "metadata": {
        "execution": {
          "iopub.status.busy": "2023-04-28T08:59:15.733141Z",
          "iopub.execute_input": "2023-04-28T08:59:15.733883Z",
          "iopub.status.idle": "2023-04-28T08:59:15.757397Z",
          "shell.execute_reply.started": "2023-04-28T08:59:15.733843Z",
          "shell.execute_reply": "2023-04-28T08:59:15.75607Z"
        },
        "trusted": true,
        "id": "gK_topcYAp3c"
      },
      "execution_count": null,
      "outputs": []
    },
    {
      "cell_type": "code",
      "source": [
        "feature_df = theft_data[date_feature]\n",
        "feature_df"
      ],
      "metadata": {
        "execution": {
          "iopub.status.busy": "2023-04-28T08:59:15.759497Z",
          "iopub.execute_input": "2023-04-28T08:59:15.762878Z",
          "iopub.status.idle": "2023-04-28T08:59:15.993499Z",
          "shell.execute_reply.started": "2023-04-28T08:59:15.762808Z",
          "shell.execute_reply": "2023-04-28T08:59:15.992384Z"
        },
        "trusted": true,
        "id": "VJmt3xs_Ap3c"
      },
      "execution_count": null,
      "outputs": []
    },
    {
      "cell_type": "code",
      "source": [
        "feature_df_T = feature_df.T\n",
        "feature_df_T.index.names = ['Date'] #Change the name of index\n",
        "TARGET = theft_data['FLAG']\n",
        "TARGET_T = TARGET.T"
      ],
      "metadata": {
        "execution": {
          "iopub.status.busy": "2023-04-28T08:59:16.001548Z",
          "iopub.execute_input": "2023-04-28T08:59:16.004247Z",
          "iopub.status.idle": "2023-04-28T08:59:16.012426Z",
          "shell.execute_reply.started": "2023-04-28T08:59:16.004201Z",
          "shell.execute_reply": "2023-04-28T08:59:16.01136Z"
        },
        "trusted": true,
        "id": "R2Sw-NF_Ap3c"
      },
      "execution_count": null,
      "outputs": []
    },
    {
      "cell_type": "code",
      "source": [
        "feature_df_T.head()"
      ],
      "metadata": {
        "execution": {
          "iopub.status.busy": "2023-04-28T08:59:16.01753Z",
          "iopub.execute_input": "2023-04-28T08:59:16.020236Z",
          "iopub.status.idle": "2023-04-28T08:59:16.068569Z",
          "shell.execute_reply.started": "2023-04-28T08:59:16.020191Z",
          "shell.execute_reply": "2023-04-28T08:59:16.067557Z"
        },
        "trusted": true,
        "id": "0ZjN4uh6Ap3d"
      },
      "execution_count": null,
      "outputs": []
    },
    {
      "cell_type": "code",
      "source": [
        "feature_df_T.index = pd.to_datetime(feature_df_T.index, infer_datetime_format=True)"
      ],
      "metadata": {
        "execution": {
          "iopub.status.busy": "2023-04-28T08:59:16.073101Z",
          "iopub.execute_input": "2023-04-28T08:59:16.075637Z",
          "iopub.status.idle": "2023-04-28T08:59:16.092261Z",
          "shell.execute_reply.started": "2023-04-28T08:59:16.075593Z",
          "shell.execute_reply": "2023-04-28T08:59:16.088775Z"
        },
        "trusted": true,
        "id": "3wu8KP74Ap3d"
      },
      "execution_count": null,
      "outputs": []
    },
    {
      "cell_type": "code",
      "source": [
        "feature_df_T.index.name = 'Date'"
      ],
      "metadata": {
        "execution": {
          "iopub.status.busy": "2023-04-28T08:59:16.094325Z",
          "iopub.execute_input": "2023-04-28T08:59:16.094839Z",
          "iopub.status.idle": "2023-04-28T08:59:16.101837Z",
          "shell.execute_reply.started": "2023-04-28T08:59:16.094798Z",
          "shell.execute_reply": "2023-04-28T08:59:16.100206Z"
        },
        "trusted": true,
        "id": "LjpNqLqLAp3d"
      },
      "execution_count": null,
      "outputs": []
    },
    {
      "cell_type": "code",
      "source": [
        "number_of_feature = len(feature_df_T.columns)\n",
        "print(number_of_feature)"
      ],
      "metadata": {
        "execution": {
          "iopub.status.busy": "2023-04-28T08:59:16.10398Z",
          "iopub.execute_input": "2023-04-28T08:59:16.105031Z",
          "iopub.status.idle": "2023-04-28T08:59:16.112132Z",
          "shell.execute_reply.started": "2023-04-28T08:59:16.10483Z",
          "shell.execute_reply": "2023-04-28T08:59:16.110829Z"
        },
        "trusted": true,
        "id": "PrScRtKvAp3d"
      },
      "execution_count": null,
      "outputs": []
    },
    {
      "cell_type": "code",
      "source": [
        "\n",
        "Residental_list = []\n",
        "for i in range(number_of_feature):\n",
        "    Residental_list.append('Resident' + ' ' + str(i))\n",
        "\n",
        "\n",
        "feature_df_T.columns = Residental_list"
      ],
      "metadata": {
        "execution": {
          "iopub.status.busy": "2023-04-28T08:59:16.114339Z",
          "iopub.execute_input": "2023-04-28T08:59:16.115438Z",
          "iopub.status.idle": "2023-04-28T08:59:16.15103Z",
          "shell.execute_reply.started": "2023-04-28T08:59:16.115299Z",
          "shell.execute_reply": "2023-04-28T08:59:16.149863Z"
        },
        "trusted": true,
        "id": "6o7kHxNkAp3d"
      },
      "execution_count": null,
      "outputs": []
    },
    {
      "cell_type": "code",
      "source": [
        "feature_df_T_2014 = feature_df_T['2014-01-01':'2014-12-31'].copy()\n",
        "index_month = feature_df_T_2014.index.month\n",
        "mean_by_month= feature_df_T_2014.groupby(index_month).mean()"
      ],
      "metadata": {
        "execution": {
          "iopub.status.busy": "2023-04-28T08:59:16.152903Z",
          "iopub.execute_input": "2023-04-28T08:59:16.153665Z",
          "iopub.status.idle": "2023-04-28T08:59:16.576761Z",
          "shell.execute_reply.started": "2023-04-28T08:59:16.153624Z",
          "shell.execute_reply": "2023-04-28T08:59:16.575753Z"
        },
        "trusted": true,
        "id": "0uuAuC4vAp3d"
      },
      "execution_count": null,
      "outputs": []
    },
    {
      "cell_type": "code",
      "source": [
        "mean_by_month.head(5)"
      ],
      "metadata": {
        "execution": {
          "iopub.status.busy": "2023-04-28T08:59:16.578331Z",
          "iopub.execute_input": "2023-04-28T08:59:16.57901Z",
          "iopub.status.idle": "2023-04-28T08:59:16.620943Z",
          "shell.execute_reply.started": "2023-04-28T08:59:16.578971Z",
          "shell.execute_reply": "2023-04-28T08:59:16.620057Z"
        },
        "trusted": true,
        "id": "CHjwG9yaAp3d"
      },
      "execution_count": null,
      "outputs": []
    },
    {
      "cell_type": "code",
      "source": [
        "mean_sample = mean_by_month.loc[:,['Resident 6', 'Resident 7', 'Resident 9']]\n",
        "\n",
        "plt.style.use('ggplot')\n",
        "ax1 = mean_sample.plot(colormap = 'Dark2', figsize = (10, 5), linewidth = 2)\n",
        "\n",
        "ax1.set_xlabel('Resident', fontsize = 10)\n",
        "ax1.set_ylabel('Mean Electricity by month')\n",
        "ax1.set_title('Mean Electricity by month of 3 sample residental')\n",
        "plt.show()"
      ],
      "metadata": {
        "execution": {
          "iopub.status.busy": "2023-04-28T08:59:16.625143Z",
          "iopub.execute_input": "2023-04-28T08:59:16.627346Z",
          "iopub.status.idle": "2023-04-28T08:59:17.016302Z",
          "shell.execute_reply.started": "2023-04-28T08:59:16.627306Z",
          "shell.execute_reply": "2023-04-28T08:59:17.015235Z"
        },
        "trusted": true,
        "id": "b5s9qE9dAp3d"
      },
      "execution_count": null,
      "outputs": []
    },
    {
      "cell_type": "markdown",
      "source": [
        " # Missing value"
      ],
      "metadata": {
        "id": "N9NvqJiQAp3e"
      }
    },
    {
      "cell_type": "code",
      "source": [
        "print(len(feature_df_T))"
      ],
      "metadata": {
        "execution": {
          "iopub.status.busy": "2023-04-28T08:59:17.021433Z",
          "iopub.execute_input": "2023-04-28T08:59:17.023915Z",
          "iopub.status.idle": "2023-04-28T08:59:17.032723Z",
          "shell.execute_reply.started": "2023-04-28T08:59:17.023873Z",
          "shell.execute_reply": "2023-04-28T08:59:17.031484Z"
        },
        "trusted": true,
        "id": "dVGD2fnwAp3e"
      },
      "execution_count": null,
      "outputs": []
    },
    {
      "cell_type": "code",
      "source": [
        "# Dop all the columns with more than 70% missing value\n",
        "threshold_percent = 70\n",
        "total_missing = feature_df_T.isnull().sum()\n",
        "\n",
        "percent_missing = (total_missing*100/len(feature_df_T))\n",
        "drop_cols = list(percent_missing[total_missing > threshold_percent].index)\n",
        "feature_df_T = feature_df_T.drop(drop_cols, axis=1).copy()\n",
        "\n",
        "feature_df_T.head(5)"
      ],
      "metadata": {
        "execution": {
          "iopub.status.busy": "2023-04-28T08:59:17.036641Z",
          "iopub.execute_input": "2023-04-28T08:59:17.037523Z",
          "iopub.status.idle": "2023-04-28T08:59:17.593315Z",
          "shell.execute_reply.started": "2023-04-28T08:59:17.037482Z",
          "shell.execute_reply": "2023-04-28T08:59:17.592103Z"
        },
        "trusted": true,
        "id": "KLfWKjQKAp3f"
      },
      "execution_count": null,
      "outputs": []
    },
    {
      "cell_type": "code",
      "source": [
        "feature_df_T.isnull().sum().plot(figsize = (6,8), color = 'lightgreen')\n",
        "plt.show()"
      ],
      "metadata": {
        "execution": {
          "iopub.status.busy": "2023-04-28T08:59:17.595137Z",
          "iopub.execute_input": "2023-04-28T08:59:17.595518Z",
          "iopub.status.idle": "2023-04-28T08:59:18.565632Z",
          "shell.execute_reply.started": "2023-04-28T08:59:17.595479Z",
          "shell.execute_reply": "2023-04-28T08:59:18.564457Z"
        },
        "trusted": true,
        "id": "cEZiBCB3Ap3f"
      },
      "execution_count": null,
      "outputs": []
    },
    {
      "cell_type": "code",
      "source": [
        "feature_df_T['Resident 6'].plot()\n",
        "plt.show()"
      ],
      "metadata": {
        "execution": {
          "iopub.status.busy": "2023-04-28T08:59:18.570257Z",
          "iopub.execute_input": "2023-04-28T08:59:18.573493Z",
          "iopub.status.idle": "2023-04-28T08:59:18.936564Z",
          "shell.execute_reply.started": "2023-04-28T08:59:18.573446Z",
          "shell.execute_reply": "2023-04-28T08:59:18.935468Z"
        },
        "trusted": true,
        "id": "isWQnxUvAp3f"
      },
      "execution_count": null,
      "outputs": []
    },
    {
      "cell_type": "code",
      "source": [
        "fig, ax = plt.subplots(2, figsize = (12, 5))\n",
        "plot_acf(feature_df_T['Resident 7'].dropna(), lags = 60, ax=ax[0])\n",
        "plot_pacf(feature_df_T['Resident 7'].dropna(), lags = 60, ax=ax[1])\n",
        "plt.show()"
      ],
      "metadata": {
        "execution": {
          "iopub.status.busy": "2023-04-28T08:59:18.940125Z",
          "iopub.execute_input": "2023-04-28T08:59:18.943894Z",
          "iopub.status.idle": "2023-04-28T08:59:19.495343Z",
          "shell.execute_reply.started": "2023-04-28T08:59:18.943852Z",
          "shell.execute_reply": "2023-04-28T08:59:19.4942Z"
        },
        "trusted": true,
        "id": "__oafhxRAp3f"
      },
      "execution_count": null,
      "outputs": []
    },
    {
      "cell_type": "code",
      "source": [
        "feature_df_T.head(5)\n"
      ],
      "metadata": {
        "execution": {
          "iopub.status.busy": "2023-04-28T08:59:19.499999Z",
          "iopub.execute_input": "2023-04-28T08:59:19.502857Z",
          "iopub.status.idle": "2023-04-28T08:59:19.553349Z",
          "shell.execute_reply.started": "2023-04-28T08:59:19.502811Z",
          "shell.execute_reply": "2023-04-28T08:59:19.552236Z"
        },
        "trusted": true,
        "id": "A1qMot8DAp3f"
      },
      "execution_count": null,
      "outputs": []
    },
    {
      "cell_type": "code",
      "source": [
        "feature_df_T.isnull().sum()"
      ],
      "metadata": {
        "execution": {
          "iopub.status.busy": "2023-04-28T08:59:19.558473Z",
          "iopub.execute_input": "2023-04-28T08:59:19.561032Z",
          "iopub.status.idle": "2023-04-28T08:59:19.695483Z",
          "shell.execute_reply.started": "2023-04-28T08:59:19.560979Z",
          "shell.execute_reply": "2023-04-28T08:59:19.694141Z"
        },
        "trusted": true,
        "id": "_GciYNV8Ap3f"
      },
      "execution_count": null,
      "outputs": []
    },
    {
      "cell_type": "code",
      "source": [
        "daterange = pd.date_range(start=feature_df_T.index.min(), end=feature_df_T.index.max(), freq='D')\n",
        "feature_df_T_calenderized = pd.DataFrame(index=daterange, columns=feature_df_T.columns)\n",
        "feature_df_T_calenderized.update(feature_df_T)"
      ],
      "metadata": {
        "execution": {
          "iopub.status.busy": "2023-04-28T08:59:19.700851Z",
          "iopub.execute_input": "2023-04-28T08:59:19.701578Z",
          "iopub.status.idle": "2023-04-28T08:59:26.627443Z",
          "shell.execute_reply.started": "2023-04-28T08:59:19.701531Z",
          "shell.execute_reply": "2023-04-28T08:59:26.626286Z"
        },
        "trusted": true,
        "id": "WfRYu8KWAp3f"
      },
      "execution_count": null,
      "outputs": []
    },
    {
      "cell_type": "code",
      "source": [
        "feature_df_T_calenderized.head(5)"
      ],
      "metadata": {
        "execution": {
          "iopub.status.busy": "2023-04-28T08:59:26.629329Z",
          "iopub.execute_input": "2023-04-28T08:59:26.630032Z",
          "iopub.status.idle": "2023-04-28T08:59:26.658804Z",
          "shell.execute_reply.started": "2023-04-28T08:59:26.62998Z",
          "shell.execute_reply": "2023-04-28T08:59:26.657766Z"
        },
        "trusted": true,
        "id": "DEO5VnrsAp3f"
      },
      "execution_count": null,
      "outputs": []
    },
    {
      "cell_type": "code",
      "source": [
        "feature_df_T_calenderized.isnull().sum()"
      ],
      "metadata": {
        "execution": {
          "iopub.status.busy": "2023-04-28T08:59:26.665925Z",
          "iopub.execute_input": "2023-04-28T08:59:26.666224Z",
          "iopub.status.idle": "2023-04-28T08:59:27.326418Z",
          "shell.execute_reply.started": "2023-04-28T08:59:26.666196Z",
          "shell.execute_reply": "2023-04-28T08:59:27.325242Z"
        },
        "trusted": true,
        "id": "hgZoGcg5Ap3f"
      },
      "execution_count": null,
      "outputs": []
    },
    {
      "cell_type": "code",
      "source": [
        "feature_df_T.isnull().sum()"
      ],
      "metadata": {
        "execution": {
          "iopub.status.busy": "2023-04-28T08:59:27.328168Z",
          "iopub.execute_input": "2023-04-28T08:59:27.32857Z",
          "iopub.status.idle": "2023-04-28T08:59:27.41754Z",
          "shell.execute_reply.started": "2023-04-28T08:59:27.328528Z",
          "shell.execute_reply": "2023-04-28T08:59:27.41642Z"
        },
        "trusted": true,
        "id": "2xaR14_gAp3f"
      },
      "execution_count": null,
      "outputs": []
    },
    {
      "cell_type": "markdown",
      "source": [
        "# EDA"
      ],
      "metadata": {
        "id": "lEClosz6Ap3f"
      }
    },
    {
      "cell_type": "code",
      "source": [
        "start_date = feature_df_T.index.min()\n",
        "end_date = feature_df_T.index.max()\n",
        "date_range = pd.date_range(start=start_date, end=end_date, freq='D')\n",
        "expected_days = len(date_range)\n",
        "actual_days = len(feature_df_T_calenderized)\n",
        "print(f\"Expected days: {expected_days}\")\n",
        "print(f\"Actual days: {actual_days}\")"
      ],
      "metadata": {
        "execution": {
          "iopub.status.busy": "2023-04-28T08:59:27.419133Z",
          "iopub.execute_input": "2023-04-28T08:59:27.419518Z",
          "iopub.status.idle": "2023-04-28T08:59:27.427143Z",
          "shell.execute_reply.started": "2023-04-28T08:59:27.419481Z",
          "shell.execute_reply": "2023-04-28T08:59:27.425946Z"
        },
        "trusted": true,
        "id": "9vv4m3BaAp3f"
      },
      "execution_count": null,
      "outputs": []
    },
    {
      "cell_type": "code",
      "source": [
        "# If we want to use linear model (LDA or SVM), use feature_df_T_diff data\n",
        "feature_df_T_diff = feature_df_T_calenderized.diff()\n",
        "feature_df_T_diff = feature_df_T_diff['2014-01-02':].copy()\n"
      ],
      "metadata": {
        "execution": {
          "iopub.status.busy": "2023-04-28T08:59:27.428757Z",
          "iopub.execute_input": "2023-04-28T08:59:27.429552Z",
          "iopub.status.idle": "2023-04-28T08:59:29.274839Z",
          "shell.execute_reply.started": "2023-04-28T08:59:27.429514Z",
          "shell.execute_reply": "2023-04-28T08:59:29.273618Z"
        },
        "trusted": true,
        "id": "DicQbUreAp3g"
      },
      "execution_count": null,
      "outputs": []
    },
    {
      "cell_type": "code",
      "source": [
        "feature_df_T_diff.isnull().sum()"
      ],
      "metadata": {
        "execution": {
          "iopub.status.busy": "2023-04-28T08:59:29.276386Z",
          "iopub.execute_input": "2023-04-28T08:59:29.278405Z",
          "iopub.status.idle": "2023-04-28T08:59:29.946944Z",
          "shell.execute_reply.started": "2023-04-28T08:59:29.278361Z",
          "shell.execute_reply": "2023-04-28T08:59:29.94576Z"
        },
        "trusted": true,
        "id": "3HLEduDuAp3g"
      },
      "execution_count": null,
      "outputs": []
    },
    {
      "cell_type": "code",
      "source": [
        "feature_df_T_diff['Resident 6'].plot(figsize = (12,7))\n",
        "plt.show()"
      ],
      "metadata": {
        "execution": {
          "iopub.status.busy": "2023-04-28T08:59:29.948382Z",
          "iopub.execute_input": "2023-04-28T08:59:29.948832Z",
          "iopub.status.idle": "2023-04-28T08:59:30.290793Z",
          "shell.execute_reply.started": "2023-04-28T08:59:29.948794Z",
          "shell.execute_reply": "2023-04-28T08:59:30.289666Z"
        },
        "trusted": true,
        "id": "ijm7WlFQAp3g"
      },
      "execution_count": null,
      "outputs": []
    },
    {
      "cell_type": "code",
      "source": [
        "#Removing outlier\n",
        "'''\n",
        "for col in feature_df_T_diff.columns:\n",
        "    col_diff = feature_df_T_diff[col]\n",
        "    q1 = np.percentile(col_diff, 25)\n",
        "    q3 = np.percentile(col_diff, 75)\n",
        "    iqr = q3 - q1\n",
        "    upper_bound = q3 + 1.5 * iqr\n",
        "    lower_bound = q1 - 1.5 * iqr\n",
        "    outliers = np.where((col_diff > upper_bound) | (col_diff < lower_bound))[0]\n",
        "    # Replace outliers with NaN values\n",
        "    col_diff.iloc[outliers] = np.nan\n",
        "'''\n"
      ],
      "metadata": {
        "execution": {
          "iopub.status.busy": "2023-04-28T08:59:30.291909Z",
          "iopub.execute_input": "2023-04-28T08:59:30.292287Z",
          "iopub.status.idle": "2023-04-28T08:59:30.300368Z",
          "shell.execute_reply.started": "2023-04-28T08:59:30.292254Z",
          "shell.execute_reply": "2023-04-28T08:59:30.299148Z"
        },
        "trusted": true,
        "id": "b8V0OiBXAp3g"
      },
      "execution_count": null,
      "outputs": []
    },
    {
      "cell_type": "code",
      "source": [
        "feature_df_T_diff = feature_df_T_diff.astype('float64')"
      ],
      "metadata": {
        "execution": {
          "iopub.status.busy": "2023-04-28T08:59:30.302585Z",
          "iopub.execute_input": "2023-04-28T08:59:30.303437Z",
          "iopub.status.idle": "2023-04-28T08:59:30.782309Z",
          "shell.execute_reply.started": "2023-04-28T08:59:30.303398Z",
          "shell.execute_reply": "2023-04-28T08:59:30.780994Z"
        },
        "trusted": true,
        "id": "s7zyIgwmAp3g"
      },
      "execution_count": null,
      "outputs": []
    },
    {
      "cell_type": "code",
      "source": [
        "feature_df_T_diff.dtypes"
      ],
      "metadata": {
        "execution": {
          "iopub.status.busy": "2023-04-28T08:59:30.784666Z",
          "iopub.execute_input": "2023-04-28T08:59:30.78561Z",
          "iopub.status.idle": "2023-04-28T08:59:30.796675Z",
          "shell.execute_reply.started": "2023-04-28T08:59:30.785564Z",
          "shell.execute_reply": "2023-04-28T08:59:30.795482Z"
        },
        "trusted": true,
        "id": "DPfThYreAp3g"
      },
      "execution_count": null,
      "outputs": []
    },
    {
      "cell_type": "code",
      "source": [
        "missing_indices = feature_df_T_diff.isna()"
      ],
      "metadata": {
        "execution": {
          "iopub.status.busy": "2023-04-28T08:59:30.798622Z",
          "iopub.execute_input": "2023-04-28T08:59:30.799175Z",
          "iopub.status.idle": "2023-04-28T08:59:30.822907Z",
          "shell.execute_reply.started": "2023-04-28T08:59:30.79914Z",
          "shell.execute_reply": "2023-04-28T08:59:30.821898Z"
        },
        "trusted": true,
        "id": "t-6chJh9Ap3l"
      },
      "execution_count": null,
      "outputs": []
    },
    {
      "cell_type": "code",
      "source": [
        "feature_df_T_diff.isnull().sum()"
      ],
      "metadata": {
        "execution": {
          "iopub.status.busy": "2023-04-28T08:59:30.824501Z",
          "iopub.execute_input": "2023-04-28T08:59:30.824927Z",
          "iopub.status.idle": "2023-04-28T08:59:30.919166Z",
          "shell.execute_reply.started": "2023-04-28T08:59:30.824889Z",
          "shell.execute_reply": "2023-04-28T08:59:30.918219Z"
        },
        "trusted": true,
        "id": "X9Xnqaf-Ap3m"
      },
      "execution_count": null,
      "outputs": []
    },
    {
      "cell_type": "code",
      "source": [
        "print(feature_df_T_diff.index)"
      ],
      "metadata": {
        "execution": {
          "iopub.status.busy": "2023-04-28T08:59:30.920943Z",
          "iopub.execute_input": "2023-04-28T08:59:30.921652Z",
          "iopub.status.idle": "2023-04-28T08:59:30.928315Z",
          "shell.execute_reply.started": "2023-04-28T08:59:30.921611Z",
          "shell.execute_reply": "2023-04-28T08:59:30.927127Z"
        },
        "trusted": true,
        "id": "kZUjJNJSAp3m"
      },
      "execution_count": null,
      "outputs": []
    },
    {
      "cell_type": "code",
      "source": [
        "feature_df_T_diff.index.freq"
      ],
      "metadata": {
        "execution": {
          "iopub.status.busy": "2023-04-28T08:59:30.92999Z",
          "iopub.execute_input": "2023-04-28T08:59:30.930674Z",
          "iopub.status.idle": "2023-04-28T08:59:30.940644Z",
          "shell.execute_reply.started": "2023-04-28T08:59:30.930636Z",
          "shell.execute_reply": "2023-04-28T08:59:30.939326Z"
        },
        "trusted": true,
        "id": "YFlBJ1dgAp3m"
      },
      "execution_count": null,
      "outputs": []
    },
    {
      "cell_type": "code",
      "source": [
        "missing_indices.head()"
      ],
      "metadata": {
        "execution": {
          "iopub.status.busy": "2023-04-28T08:59:30.942667Z",
          "iopub.execute_input": "2023-04-28T08:59:30.943107Z",
          "iopub.status.idle": "2023-04-28T08:59:30.967262Z",
          "shell.execute_reply.started": "2023-04-28T08:59:30.943073Z",
          "shell.execute_reply": "2023-04-28T08:59:30.966578Z"
        },
        "trusted": true,
        "id": "v3vUa7cTAp3m"
      },
      "execution_count": null,
      "outputs": []
    },
    {
      "cell_type": "code",
      "source": [
        "feature_df_T_calenderized.isnull().sum()"
      ],
      "metadata": {
        "execution": {
          "iopub.status.busy": "2023-04-28T08:59:30.968573Z",
          "iopub.execute_input": "2023-04-28T08:59:30.96913Z",
          "iopub.status.idle": "2023-04-28T08:59:31.709667Z",
          "shell.execute_reply.started": "2023-04-28T08:59:30.969095Z",
          "shell.execute_reply": "2023-04-28T08:59:31.708668Z"
        },
        "trusted": true,
        "id": "1Cttqg7kAp3m"
      },
      "execution_count": null,
      "outputs": []
    },
    {
      "cell_type": "code",
      "source": [
        "feature_df_T_calenderized[\"Resident 6\"].plot(figsize = (15,7))\n",
        "plt.show()"
      ],
      "metadata": {
        "execution": {
          "iopub.status.busy": "2023-04-28T08:59:31.71109Z",
          "iopub.execute_input": "2023-04-28T08:59:31.711558Z",
          "iopub.status.idle": "2023-04-28T08:59:32.058677Z",
          "shell.execute_reply.started": "2023-04-28T08:59:31.711518Z",
          "shell.execute_reply": "2023-04-28T08:59:32.057643Z"
        },
        "trusted": true,
        "id": "Ti3aRmR6Ap3m"
      },
      "execution_count": null,
      "outputs": []
    },
    {
      "cell_type": "code",
      "source": [
        "feature_df_T = feature_df_T_calenderized.copy()"
      ],
      "metadata": {
        "execution": {
          "iopub.status.busy": "2023-04-28T08:59:32.060278Z",
          "iopub.execute_input": "2023-04-28T08:59:32.060655Z",
          "iopub.status.idle": "2023-04-28T08:59:32.35418Z",
          "shell.execute_reply.started": "2023-04-28T08:59:32.060618Z",
          "shell.execute_reply": "2023-04-28T08:59:32.352987Z"
        },
        "trusted": true,
        "id": "iPb3PjTNAp3m"
      },
      "execution_count": null,
      "outputs": []
    },
    {
      "cell_type": "code",
      "source": [
        "feature_df_T = feature_df_T.copy().fillna(0)\n",
        "n_cols = feature_df_T.shape[1]\n",
        "n_cols"
      ],
      "metadata": {
        "execution": {
          "iopub.status.busy": "2023-04-28T09:08:35.652272Z",
          "iopub.execute_input": "2023-04-28T09:08:35.652946Z",
          "iopub.status.idle": "2023-04-28T09:08:35.816026Z",
          "shell.execute_reply.started": "2023-04-28T09:08:35.652906Z",
          "shell.execute_reply": "2023-04-28T09:08:35.814895Z"
        },
        "trusted": true,
        "id": "u2p4vjZEAp3m"
      },
      "execution_count": null,
      "outputs": []
    },
    {
      "cell_type": "code",
      "source": [
        "kf = KalmanFilter(n_dim_obs=n_cols, n_dim_state=n_cols,\n",
        "                  em_vars=['transition_covariance', 'observation_covariance', 'initial_state_mean', 'initial_state_covariance'])\n",
        "\n",
        "filtered_state_means, filtered_state_covariances = kf.filter(feature_df_T.values)\n",
        "filtered_data = pd.DataFrame(filtered_state_means, index=feature_df_T.index, columns=feature_df_T.columns)"
      ],
      "metadata": {
        "execution": {
          "iopub.status.busy": "2023-04-28T09:08:39.283896Z",
          "iopub.execute_input": "2023-04-28T09:08:39.284271Z"
        },
        "trusted": true,
        "id": "GrmCk0igAp3m"
      },
      "execution_count": null,
      "outputs": []
    },
    {
      "cell_type": "code",
      "source": [
        "'''\n",
        "feature_df_T = feature_df_T_calenderized.copy()\n",
        "freq_data = np.zeros_like(feature_df_T)\n",
        "for i in range(feature_df_T.shape[1]):\n",
        "    freq_data[:, i] = fft(feature_df_T.iloc[:, i].values)\n",
        "'''"
      ],
      "metadata": {
        "execution": {
          "iopub.status.busy": "2023-04-28T08:59:32.355746Z",
          "iopub.execute_input": "2023-04-28T08:59:32.356104Z",
          "iopub.status.idle": "2023-04-28T08:59:32.366879Z",
          "shell.execute_reply.started": "2023-04-28T08:59:32.356073Z",
          "shell.execute_reply": "2023-04-28T08:59:32.365757Z"
        },
        "trusted": true,
        "id": "eomVQhj7Ap3m"
      },
      "execution_count": null,
      "outputs": []
    },
    {
      "cell_type": "code",
      "source": [
        "plt.plot(freq_data)\n",
        "plt.show()"
      ],
      "metadata": {
        "execution": {
          "iopub.status.busy": "2023-04-28T08:59:32.368725Z",
          "iopub.execute_input": "2023-04-28T08:59:32.369243Z",
          "iopub.status.idle": "2023-04-28T08:59:32.472946Z",
          "shell.execute_reply.started": "2023-04-28T08:59:32.369076Z",
          "shell.execute_reply": "2023-04-28T08:59:32.471321Z"
        },
        "trusted": true,
        "id": "VxpcQOMbAp3m"
      },
      "execution_count": null,
      "outputs": []
    },
    {
      "cell_type": "code",
      "source": [
        "feature_df_T.head(5)"
      ],
      "metadata": {
        "execution": {
          "iopub.status.busy": "2023-04-28T08:59:32.474232Z",
          "iopub.status.idle": "2023-04-28T08:59:32.475503Z",
          "shell.execute_reply.started": "2023-04-28T08:59:32.475211Z",
          "shell.execute_reply": "2023-04-28T08:59:32.475241Z"
        },
        "trusted": true,
        "id": "xOGQZ6k4Ap3m"
      },
      "execution_count": null,
      "outputs": []
    },
    {
      "cell_type": "code",
      "source": [
        "feature_df_T.shape"
      ],
      "metadata": {
        "execution": {
          "iopub.status.busy": "2023-04-28T08:59:32.477259Z",
          "iopub.status.idle": "2023-04-28T08:59:32.477771Z",
          "shell.execute_reply.started": "2023-04-28T08:59:32.477503Z",
          "shell.execute_reply": "2023-04-28T08:59:32.477527Z"
        },
        "trusted": true,
        "id": "Yp69petLAp3m"
      },
      "execution_count": null,
      "outputs": []
    },
    {
      "cell_type": "code",
      "source": [
        "feature_df_T_calenderized.isnull().sum()"
      ],
      "metadata": {
        "execution": {
          "iopub.status.busy": "2023-04-28T08:59:32.479718Z",
          "iopub.status.idle": "2023-04-28T08:59:32.480225Z",
          "shell.execute_reply.started": "2023-04-28T08:59:32.479963Z",
          "shell.execute_reply": "2023-04-28T08:59:32.479988Z"
        },
        "trusted": true,
        "id": "scY6LP7rAp3n"
      },
      "execution_count": null,
      "outputs": []
    },
    {
      "cell_type": "code",
      "source": [
        "feature_df_T.isnull().sum()"
      ],
      "metadata": {
        "execution": {
          "iopub.status.busy": "2023-04-28T08:59:32.482354Z",
          "iopub.status.idle": "2023-04-28T08:59:32.482836Z",
          "shell.execute_reply.started": "2023-04-28T08:59:32.482578Z",
          "shell.execute_reply": "2023-04-28T08:59:32.482601Z"
        },
        "trusted": true,
        "id": "zzXJWxN-Ap3n"
      },
      "execution_count": null,
      "outputs": []
    },
    {
      "cell_type": "code",
      "source": [
        "'''max_freq = feature_df_T.shape[0] // 2 # Ignore negative frequencies due to symmetry\n",
        "threshold = 0.1 # Set threshold value for identifying noise frequencies\n",
        "noise_freqs = np.where(np.abs(freq_data[:max_freq]) > threshold)[0]\n",
        "\n",
        "# Filter out noise frequencies for each column separately\n",
        "freq_data[:, noise_freqs] = 0\n",
        "\n",
        "# Apply the inverse Fourier Transform to obtain denoised time series\n",
        "denoised_data = np.zeros_like(feature_df_T)\n",
        "for i in range(feature_df_T.shape[1]):\n",
        "    denoised_data[:, i] = np.real(ifft(freq_data[:, i]))\n",
        "\n",
        "# Add the denoised time series data back to the data frame\n",
        "feature_df_T = denoised_data.copy()'''\n"
      ],
      "metadata": {
        "execution": {
          "iopub.status.busy": "2023-04-28T08:59:32.484743Z",
          "iopub.status.idle": "2023-04-28T08:59:32.485231Z",
          "shell.execute_reply.started": "2023-04-28T08:59:32.48497Z",
          "shell.execute_reply": "2023-04-28T08:59:32.484994Z"
        },
        "trusted": true,
        "id": "sOVItwlCAp3n"
      },
      "execution_count": null,
      "outputs": []
    },
    {
      "cell_type": "code",
      "source": [
        "decoArtistmposition = seasonal_decompose(feature_df_T, model='additive', period = 730)\n",
        "seasonal = decomposition.seasonal"
      ],
      "metadata": {
        "execution": {
          "iopub.status.busy": "2023-04-28T08:59:32.487213Z",
          "iopub.status.idle": "2023-04-28T08:59:32.487717Z",
          "shell.execute_reply.started": "2023-04-28T08:59:32.487451Z",
          "shell.execute_reply": "2023-04-28T08:59:32.487477Z"
        },
        "trusted": true,
        "id": "Aq_wvusCAp3n"
      },
      "execution_count": null,
      "outputs": []
    },
    {
      "cell_type": "code",
      "source": [
        "date_feature"
      ],
      "metadata": {
        "execution": {
          "iopub.status.busy": "2023-04-28T08:59:32.489746Z",
          "iopub.status.idle": "2023-04-28T08:59:32.490303Z",
          "shell.execute_reply.started": "2023-04-28T08:59:32.490027Z",
          "shell.execute_reply": "2023-04-28T08:59:32.490055Z"
        },
        "trusted": true,
        "id": "NE4vDpVRAp3n"
      },
      "execution_count": null,
      "outputs": []
    },
    {
      "cell_type": "code",
      "source": [
        "X_theft = theft_data_1.drop(['FLAG'], axis=1)\n",
        "y_theft = theft_data_1['FLAG']"
      ],
      "metadata": {
        "execution": {
          "iopub.status.busy": "2023-04-28T08:59:32.492433Z",
          "iopub.status.idle": "2023-04-28T08:59:32.492958Z",
          "shell.execute_reply.started": "2023-04-28T08:59:32.492673Z",
          "shell.execute_reply": "2023-04-28T08:59:32.492712Z"
        },
        "trusted": true,
        "id": "PtGn9b-HAp3n"
      },
      "execution_count": null,
      "outputs": []
    },
    {
      "cell_type": "code",
      "source": [
        "date_feature"
      ],
      "metadata": {
        "execution": {
          "iopub.status.busy": "2023-04-28T08:59:32.494977Z",
          "iopub.status.idle": "2023-04-28T08:59:32.495543Z",
          "shell.execute_reply.started": "2023-04-28T08:59:32.495235Z",
          "shell.execute_reply": "2023-04-28T08:59:32.495261Z"
        },
        "trusted": true,
        "id": "Uo0acpCiAp3n"
      },
      "execution_count": null,
      "outputs": []
    },
    {
      "cell_type": "code",
      "source": [
        "X_theft.loc[len(X_theft.index)] =  date_feature"
      ],
      "metadata": {
        "execution": {
          "iopub.status.busy": "2023-04-28T08:59:32.497717Z",
          "iopub.status.idle": "2023-04-28T08:59:32.498251Z",
          "shell.execute_reply.started": "2023-04-28T08:59:32.497973Z",
          "shell.execute_reply": "2023-04-28T08:59:32.498Z"
        },
        "trusted": true,
        "id": "mS9_aVmDAp3n"
      },
      "execution_count": null,
      "outputs": []
    },
    {
      "cell_type": "code",
      "source": [
        "X_theft"
      ],
      "metadata": {
        "execution": {
          "iopub.status.busy": "2023-04-28T08:59:32.50028Z",
          "iopub.status.idle": "2023-04-28T08:59:32.500811Z",
          "shell.execute_reply.started": "2023-04-28T08:59:32.50053Z",
          "shell.execute_reply": "2023-04-28T08:59:32.500556Z"
        },
        "trusted": true,
        "id": "_LRbwthgAp3n"
      },
      "execution_count": null,
      "outputs": []
    },
    {
      "cell_type": "code",
      "source": [],
      "metadata": {
        "id": "0GHV4QlTAp3n"
      },
      "execution_count": null,
      "outputs": []
    }
  ]
}